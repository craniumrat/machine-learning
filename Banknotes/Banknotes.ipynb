{
 "cells": [
  {
   "cell_type": "markdown",
   "id": "0c8b4109-bb9c-456d-bd41-d31df3803101",
   "metadata": {},
   "source": [
    "# Bank note classification\n",
    "\n",
    "This is a simple classification problem for identifying fank banknotes. The details of the dataset are available at [Details](http://archive.ics.uci.edu/dataset/267/banknote+authentication).\n",
    "\n",
    "I used a simple logistic regression algorithm to predict whether the bank note is real or fake.  \n",
    "\n",
    "The dataset is available here: [Dataset](http://archive.ics.uci.edu/static/public/267/banknote+authentication.zip)"
   ]
  },
  {
   "cell_type": "code",
   "execution_count": null,
   "id": "14f09d97-d9a7-470d-8dcc-6cf5d28cab55",
   "metadata": {},
   "outputs": [],
   "source": [
    "import pandas as pd\n",
    "from sklearn.model_selection import train_test_split\n",
    "from sklearn.preprocessing import StandardScaler\n",
    "from sklearn.metrics import confusion_matrix\n",
    "from sklearn.linear_model import LogisticRegression\n",
    "\n",
    "dataset = pd.read_csv('data_banknote_authentication.txt')\n",
    "x = dataset.iloc[:,:-1].values\n",
    "y = dataset.iloc[:, -1].values\n"
   ]
  },
  {
   "cell_type": "markdown",
   "id": "360e42c6-dd2c-4315-8d1d-55eed60d67d0",
   "metadata": {},
   "source": [
    "We are going to split the training/test set with `random_state=0` so that it runs (somewhat) consistently. We also apply StandardScaler to have a consistent scaling for all `X` columns."
   ]
  },
  {
   "cell_type": "code",
   "execution_count": null,
   "id": "76420530-54c0-4b86-ab2d-193cb9f7dae1",
   "metadata": {},
   "outputs": [],
   "source": [
    "\n",
    "x_train, x_test, y_train, y_test = train_test_split(x, y, test_size = .25, random_state = 0)\n",
    "\n",
    "scaler = StandardScaler()\n",
    "x_train = scaler.fit_transform(x_train)\n",
    "x_test = scaler.transform(x_test)\n",
    "\n",
    "model = LogisticRegression()\n",
    "model.fit(x_train, y_train)\n",
    "\n",
    "y_pred = model.predict(x_test)\n",
    "\n",
    "cm = confusion_matrix(y_test, y_pred)\n",
    "print(cm)"
   ]
  },
  {
   "cell_type": "markdown",
   "id": "293cbba0-6d68-49cd-8c51-40d1c8860ea3",
   "metadata": {},
   "source": [
    "This gives an accuracy score of about 97%.\n",
    "\n",
    "Here are the accuracy and confusion matrix scores:\n",
    "\n",
    "```\n",
    "0.9795918367346939\n",
    "[[194   7]\n",
    " [  0 142]]\n",
    "```"
   ]
  }
 ],
 "metadata": {
  "kernelspec": {
   "display_name": "Python 3 (ipykernel)",
   "language": "python",
   "name": "python3"
  },
  "language_info": {
   "codemirror_mode": {
    "name": "ipython",
    "version": 3
   },
   "file_extension": ".py",
   "mimetype": "text/x-python",
   "name": "python",
   "nbconvert_exporter": "python",
   "pygments_lexer": "ipython3",
   "version": "3.11.4"
  }
 },
 "nbformat": 4,
 "nbformat_minor": 5
}
